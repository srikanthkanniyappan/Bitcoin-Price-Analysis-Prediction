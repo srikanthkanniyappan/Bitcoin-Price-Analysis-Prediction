{
 "cells": [
  {
   "cell_type": "markdown",
   "id": "e99a30aa",
   "metadata": {},
   "source": [
    "# Bitcoin Price Analysis and Prediction"
   ]
  },
  {
   "cell_type": "markdown",
   "id": "66a7d176-7b33-4e52-b425-be6f94d3bf0a",
   "metadata": {},
   "source": [
    "### Importing Necessary Libraries"
   ]
  },
  {
   "cell_type": "code",
   "execution_count": 3,
   "id": "af52ded0-f5dc-4527-8e25-ca9c30ad918d",
   "metadata": {
    "tags": []
   },
   "outputs": [],
   "source": [
    "import numpy as np\n",
    "import pandas as pd\n",
    "import seaborn as sns\n",
    "import matplotlib.pyplot as plt\n",
    "from sklearn.model_selection import train_test_split\n",
    "from sklearn.linear_model import LinearRegression\n",
    "from sklearn.metrics import mean_squared_error, r2_score"
   ]
  },
  {
   "cell_type": "markdown",
   "id": "d5315a1c-c7f4-4a64-b375-fa9bd09324e2",
   "metadata": {},
   "source": [
    "### Import and read dataset"
   ]
  },
  {
   "cell_type": "code",
   "execution_count": 4,
   "id": "b14cffea-c7cd-4568-bfec-68c778865434",
   "metadata": {
    "tags": []
   },
   "outputs": [
    {
     "name": "stdout",
     "output_type": "stream",
     "text": [
      "   open  high   low  close  tick_volume  year  month  day\n",
      "0  5.26  5.47  4.80   5.21        69150  2012      1    2\n",
      "1  5.22  5.29  4.65   4.88       125170  2012      1    3\n",
      "2  4.88  5.70  4.75   5.57       131170  2012      1    4\n",
      "3  5.57  7.22  5.57   6.94       182328  2012      1    5\n",
      "4  6.95  7.21  6.13   6.70       218077  2012      1    6\n",
      "5  7.11  7.19  5.81   6.32       148406  2012      1    9\n",
      "6  6.33  6.89  6.00   6.36       110210  2012      1   10\n",
      "7  6.45  7.14  6.41   6.90        99442  2012      1   11\n",
      "8  6.90  7.00  6.34   6.80       140116  2012      1   12\n",
      "9  6.80  6.80  6.40   6.41        60228  2012      1   13\n"
     ]
    }
   ],
   "source": [
    "'''Define a function called read_data'''\n",
    "data=None\n",
    "def first_10_rows():\n",
    "    global data\n",
    "    try:\n",
    "        '''Use the pandas function read_csv() to read in a CSV file named bitcoin_prices2.csv and store the resulting DataFrame object in a variable named data'''\n",
    "        data = pd.read_csv(\"Dataset/bitcoin_prices2.csv\")\n",
    "    except FileNotFoundError:\n",
    "        print(\"The file does not exist :(\")\n",
    "    else: \n",
    "        '''Use the head() function to print the first 10 rows of the DataFrame'''\n",
    "        print(data.head(10))\n",
    "first_10_rows()"
   ]
  },
  {
   "cell_type": "markdown",
   "id": "03bd6e8f-3195-4770-863e-42e2dffd4d11",
   "metadata": {},
   "source": [
    "### Data Cleaning"
   ]
  },
  {
   "cell_type": "markdown",
   "id": "f0980e0d-7ddf-4752-a6ba-ce0de902fcb6",
   "metadata": {},
   "source": [
    "Missing Value"
   ]
  },
  {
   "cell_type": "code",
   "execution_count": 5,
   "id": "02c55d64-3bd7-4da7-b83c-758e565285c9",
   "metadata": {
    "tags": []
   },
   "outputs": [
    {
     "name": "stdout",
     "output_type": "stream",
     "text": [
      "Number of null values in each column:\n",
      "open           0\n",
      "high           0\n",
      "low            0\n",
      "close          0\n",
      "tick_volume    0\n",
      "year           0\n",
      "month          0\n",
      "day            0\n",
      "dtype: int64\n"
     ]
    }
   ],
   "source": [
    "def null_val():\n",
    "    if data is None:\n",
    "        print(\"Call first_10_rows() first..\")\n",
    "    else:\n",
    "        print(\"Number of null values in each column:\")\n",
    "        print(data.isnull().sum())\n",
    "null_val()"
   ]
  },
  {
   "cell_type": "markdown",
   "id": "b0b41622-6c0e-49db-a392-b36a9d55b23e",
   "metadata": {},
   "source": [
    "Duplicate data"
   ]
  },
  {
   "cell_type": "code",
   "execution_count": 7,
   "id": "1f6bf7d9-9f33-45ce-8030-0fa2b97a7af7",
   "metadata": {
    "tags": []
   },
   "outputs": [
    {
     "name": "stdout",
     "output_type": "stream",
     "text": [
      "Number of duplicate rows: 0\n"
     ]
    }
   ],
   "source": [
    "def dup_val():\n",
    "    if data is None:\n",
    "        print(\"Call first_10_rows() first..\")\n",
    "    else:\n",
    "        print(\"Number of duplicate rows:\",end=\" \")\n",
    "        print(data.duplicated().sum())\n",
    "dup_val()"
   ]
  },
  {
   "cell_type": "markdown",
   "id": "17841fa6-a210-4961-8457-8d82402d755f",
   "metadata": {},
   "source": [
    "### Data Analysis"
   ]
  },
  {
   "cell_type": "markdown",
   "id": "97217979-1f15-464f-92c2-5daf9e90fbd3",
   "metadata": {},
   "source": [
    "\n",
    "Average Closing Prices of the Stock for Each Month in the Year"
   ]
  },
  {
   "cell_type": "code",
   "execution_count": 8,
   "id": "34a53464-8559-4067-af97-d4d655408c8e",
   "metadata": {
    "tags": []
   },
   "outputs": [
    {
     "name": "stdout",
     "output_type": "stream",
     "text": [
      "date\n",
      "2012-01        6.051818\n",
      "2012-02        5.100952\n",
      "2012-03        4.916364\n",
      "2012-04        5.002857\n",
      "2012-05        5.078261\n",
      "               ...     \n",
      "2020-08    11631.657143\n",
      "2020-09    10684.284545\n",
      "2020-10    11901.793636\n",
      "2020-11    16650.635238\n",
      "2020-12    21788.898182\n",
      "Name: close, Length: 108, dtype: float64\n"
     ]
    }
   ],
   "source": [
    "def avg_price():\n",
    "    if data is None:\n",
    "        print(\"Call first_10_rows() first..\")\n",
    "    else:\n",
    "        ''' Convert 'year', 'month', and 'day' columns into a datetime column'''\n",
    "        data['date'] = pd.to_datetime(data[['year', 'month', 'day']])\n",
    "\n",
    "        ''' Group the data by month and calculate the average closing price for each month'''\n",
    "        avg_close_price = data.groupby(data['date'].dt.strftime('%Y-%m'))['close'].mean()\n",
    "\n",
    "        ''' Print the resulting series'''\n",
    "        print(avg_close_price)\n",
    "        # print(avg_close_price.to_string())\n",
    "avg_price()"
   ]
  },
  {
   "cell_type": "markdown",
   "id": "d16a4286-2830-46ad-ad35-3286ce71019b",
   "metadata": {},
   "source": [
    "Average Daily Price Range (High - Low) for a Given Month and Year"
   ]
  },
  {
   "cell_type": "code",
   "execution_count": 9,
   "id": "5a6ec947-37ff-45cf-aeed-d5cc1231a1ba",
   "metadata": {
    "tags": []
   },
   "outputs": [
    {
     "name": "stdout",
     "output_type": "stream",
     "text": [
      "The average daily price range for 1/2020 was: 406.90636363636366\n"
     ]
    }
   ],
   "source": [
    "def filter_data(year,month):\n",
    "    if data is None:\n",
    "        print(\"Call first_10_rows() first..\")\n",
    "    else:\n",
    "        '''Filter the data by year and month'''\n",
    "        data_filtered = data[(data['year'] == year) & (data['month'] == month)].copy() \n",
    "\n",
    "        '''Calculate the daily price range and store it in a new column called price_range'''\n",
    "        data_filtered['price_range'] = data_filtered['high'] - data_filtered['low']\n",
    "\n",
    "        ''' Calculate the average daily price range for the selected month and year'''\n",
    "        avg_price_range = data_filtered['price_range'].mean()\n",
    "\n",
    "        print(f'The average daily price range for {month}/{year} was: {avg_price_range}')\n",
    "\n",
    "# year = int(input(\"Enter the year:\"))\n",
    "# month = int(input(\"Enter the month:\"))\n",
    "year = 2020\n",
    "month = 1\n",
    "filter_data(year,month)"
   ]
  },
  {
   "cell_type": "markdown",
   "id": "63bb4dbb-b60c-482b-9f66-99288dbe29a4",
   "metadata": {},
   "source": [
    "Total Tick Volume for Each Year in the Dataset"
   ]
  },
  {
   "cell_type": "code",
   "execution_count": 10,
   "id": "a8d93416-fe8a-4f11-ba3b-ee86354c71b3",
   "metadata": {
    "tags": []
   },
   "outputs": [
    {
     "name": "stdout",
     "output_type": "stream",
     "text": [
      "year\n",
      "2012     16069420\n",
      "2013    344894281\n",
      "2014      2400003\n",
      "2015      2384980\n",
      "2016      4923692\n",
      "2017    339002469\n",
      "2018    558906751\n",
      "2019    415228459\n",
      "2020    478490502\n",
      "Name: tick_volume, dtype: int64\n"
     ]
    }
   ],
   "source": [
    "def tick_vol():\n",
    "    if data is None:\n",
    "        print(\"Call first_10_rows() first..\")\n",
    "    else:\n",
    "        yearly_tick_volume = data.groupby('year')['tick_volume'].sum()\n",
    "        print(yearly_tick_volume)\n",
    "tick_vol()"
   ]
  },
  {
   "cell_type": "markdown",
   "id": "764fbaea-742b-45cc-92b0-5a94432b42e8",
   "metadata": {
    "tags": []
   },
   "source": [
    "### Grouping DataFrame by Year and Finding the Mean Value"
   ]
  },
  {
   "cell_type": "code",
   "execution_count": 11,
   "id": "682433a7-95a0-4918-8fc8-d194a21d2562",
   "metadata": {
    "tags": []
   },
   "outputs": [
    {
     "name": "stdout",
     "output_type": "stream",
     "text": [
      "   year          open          high           low         close   tick_volume  \\\n",
      "0  2012      8.249119      8.482605      8.034674      8.303602  6.156866e+04   \n",
      "1  2013    182.396475    195.594023    170.112989    185.867663  1.321434e+06   \n",
      "2  2014    520.448123    534.720881    502.673027    518.500077  9.195414e+03   \n",
      "3  2015    268.885862    275.916628    263.178314    269.679579  9.137854e+03   \n",
      "4  2016    560.208467    568.469004    552.945556    561.547548  1.886472e+04   \n",
      "5  2017   4030.433980   4208.879728   3878.672007   4072.584116  1.153070e+06   \n",
      "6  2018   7784.464930   8041.540000   7478.756503   7755.060839  1.954219e+06   \n",
      "7  2019   7328.262819   7556.984942   7115.426564   7352.219653  1.603199e+06   \n",
      "8  2020  11020.477846  11335.288615  10744.427808  11104.194962  1.840348e+06   \n",
      "\n",
      "      month        day  \n",
      "0  6.501916  15.819923  \n",
      "1  6.513410  15.704981  \n",
      "2  6.524904  15.750958  \n",
      "3  6.540230  15.685824  \n",
      "4  6.524904  15.708812  \n",
      "5  6.731293  15.792517  \n",
      "6  6.094406  15.667832  \n",
      "7  6.513514  15.725869  \n",
      "8  6.519231  15.811538  \n"
     ]
    }
   ],
   "source": [
    "def group_by_year_mean():\n",
    "    ''' Group the DataFrame by year and calculate the mean value for each column'''\n",
    "    df_mean = data.groupby('year', as_index=False).mean()\n",
    "\n",
    "    '''Print the resulting DataFrame'''\n",
    "    print(df_mean)\n",
    "\n",
    "group_by_year_mean()"
   ]
  },
  {
   "cell_type": "markdown",
   "id": "e8a2b8b2-7968-4b71-9cb2-c9f9d73ba2d2",
   "metadata": {},
   "source": [
    "## Data Visualization"
   ]
  },
  {
   "cell_type": "markdown",
   "id": "d40f81bd-0618-4dd3-aadf-6f64e71f37b0",
   "metadata": {},
   "source": [
    "### Visualizing Mean Value of \"Open\" Yearly"
   ]
  },
  {
   "cell_type": "code",
   "execution_count": 13,
   "id": "c97601b7-e88b-4599-97ee-f015f83856fa",
   "metadata": {
    "tags": []
   },
   "outputs": [
    {
     "data": {
      "image/png": "[encoded data removed]",
      "text/plain": [
       "<Figure size 640x480 with 1 Axes>"
      ]
     },
     "metadata": {},
     "output_type": "display_data"
    }
   ],
   "source": [
    "def plot_mean_open_by_year():\n",
    "    ''' Use the groupby() and mean() methods to calculate the mean value of the open column for each year'''\n",
    "    df_mean = data.groupby('year', as_index=False)['open'].mean()\n",
    "\n",
    "    ''' Create a barplot using seaborn library'''\n",
    "    sns.barplot(x='year', y='open', data=df_mean)\n",
    "    \n",
    "    plt.title('Mean Value of Open by Year')\n",
    "    plt.xlabel('Year')\n",
    "    plt.ylabel('Mean Value of Open')\n",
    "    plt.show()\n",
    "    \n",
    "plot_mean_open_by_year()"
   ]
  },
  {
   "cell_type": "markdown",
   "id": "261f2c8c-716b-47aa-bb92-e1bf5a9e313a",
   "metadata": {},
   "source": [
    "### Visualizing Mean Value of \"Close\" Yearly"
   ]
  },
  {
   "cell_type": "code",
   "execution_count": 14,
   "id": "bce35817-7e71-4d73-a72c-a882b5489740",
   "metadata": {
    "tags": []
   },
   "outputs": [
    {
     "data": {
      "image/png": "[encoded data removed]",
      "text/plain": [
       "<Figure size 640x480 with 1 Axes>"
      ]
     },
     "metadata": {},
     "output_type": "display_data"
    }
   ],
   "source": [
    "def plot_mean_close_by_year():\n",
    "    ''' Use the groupby() and mean() methods to calculate the mean value of the close column for each year'''\n",
    "    yearly_close_mean = data.groupby('year', as_index=False)['close'].mean()\n",
    "\n",
    "    ''' Create a barplot using seaborn library'''\n",
    "    sns.barplot(x='year', y='close', data=yearly_close_mean)\n",
    "    \n",
    "    plt.title('Mean Value of Close by Year')\n",
    "    plt.xlabel('Year')\n",
    "    plt.ylabel('Mean Value of Close')\n",
    "    plt.show()\n",
    "    \n",
    "plot_mean_close_by_year()"
   ]
  },
  {
   "cell_type": "markdown",
   "id": "350d880a-2ef3-4ea5-8415-d461fab12ec0",
   "metadata": {},
   "source": [
    "### Grouping DataFrame by Year and Finding the Median Value"
   ]
  },
  {
   "cell_type": "code",
   "execution_count": 15,
   "id": "f7245282-b4ab-4f4c-9d16-95f4eae3e488",
   "metadata": {
    "tags": []
   },
   "outputs": [
    {
     "name": "stdout",
     "output_type": "stream",
     "text": [
      "          open     high       low     close  tick_volume  month   day\n",
      "year                                                                 \n",
      "2012     6.800     7.10     6.510     6.700      46830.0    7.0  16.0\n",
      "2013   111.300   116.44   106.000   112.250      17966.0    7.0  16.0\n",
      "2014   501.210   517.00   477.300   501.220       8073.0    7.0  16.0\n",
      "2015   246.000   251.99   241.090   245.970       7811.0    7.0  16.0\n",
      "2016   577.960   582.05   573.040   576.850      17009.0    7.0  16.0\n",
      "2017  2622.985  2743.55  2547.640  2640.920     445335.0    7.0  16.0\n",
      "2018  7138.750  7421.45  6868.370  7148.500    1278851.5    6.0  16.0\n",
      "2019  7815.950  8115.60  7483.790  7831.450    1302461.0    7.0  16.0\n",
      "2020  9672.340  9887.64  9467.515  9683.635    1752751.0    7.0  16.0\n"
     ]
    }
   ],
   "source": [
    "def group_by_year_median():\n",
    "    ''' Group the DataFrame by year and calculate the median value for each column'''\n",
    "    median_by_year = data.groupby('year').median()\n",
    "    \n",
    "    '''Print the resulting DataFrame'''\n",
    "    print(median_by_year)\n",
    "    \n",
    "group_by_year_median()"
   ]
  },
  {
   "cell_type": "markdown",
   "id": "8446e380-774a-4ee5-acf9-800017f33e4f",
   "metadata": {},
   "source": [
    "### Visualizing Median Value of \"Open\" Yearly"
   ]
  },
  {
   "cell_type": "code",
   "execution_count": 16,
   "id": "e8860b21-80f7-4b12-b096-7ce858c31dbc",
   "metadata": {
    "tags": []
   },
   "outputs": [
    {
     "data": {
      "image/png": "[encoded data removed]",
      "text/plain": [
       "<Figure size 640x480 with 1 Axes>"
      ]
     },
     "metadata": {},
     "output_type": "display_data"
    }
   ],
   "source": [
    "def plot_median_open_by_year():\n",
    "    ''' Use the groupby() and median() methods to calculate the median value of the open column for each year'''\n",
    "    df_median = data.groupby('year', as_index=False)['open'].median()\n",
    "\n",
    "    ''' Create a barplot using seaborn library'''\n",
    "    sns.barplot(x='year', y='open', data=df_median)\n",
    "    \n",
    "    plt.title('Median Value of Open by Year')\n",
    "    plt.xlabel('Year')\n",
    "    plt.ylabel('Median Value of Open')\n",
    "    plt.show()\n",
    "    \n",
    "plot_median_open_by_year()\n"
   ]
  },
  {
   "cell_type": "markdown",
   "id": "88b86b69-f46a-42d2-b969-2c9c4edbca9b",
   "metadata": {},
   "source": [
    "### Visualizing Median Value of \"Close\" Yearly"
   ]
  },
  {
   "cell_type": "code",
   "execution_count": 17,
   "id": "a00f62de-318e-4b0f-a50c-f6c42d9436f0",
   "metadata": {
    "tags": []
   },
   "outputs": [
    {
     "data": {
      "image/png": "[encoded data removed]",
      "text/plain": [
       "<Figure size 640x480 with 1 Axes>"
      ]
     },
     "metadata": {},
     "output_type": "display_data"
    }
   ],
   "source": [
    "def plot_median_close_by_year():\n",
    "    ''' Use the groupby() and median() methods to calculate the median value of the close column for each year'''\n",
    "    yearly_close_median = data.groupby('year', as_index=False)['close'].median()\n",
    "\n",
    "    ''' Create a barplot using seaborn library'''\n",
    "    sns.barplot(x='year', y='close', data=yearly_close_median)\n",
    "    \n",
    "    plt.title('Median Value of Close by Year')\n",
    "    plt.xlabel('Year')\n",
    "    plt.ylabel('Median Value of Close')\n",
    "    plt.show()\n",
    "    \n",
    "plot_median_close_by_year()\n"
   ]
  },
  {
   "cell_type": "markdown",
   "id": "3920d378",
   "metadata": {},
   "source": [
    "## Model Development & Evaluation"
   ]
  },
  {
   "cell_type": "markdown",
   "id": "4ec8ef6b",
   "metadata": {},
   "source": [
    "### Splitting Dataset"
   ]
  },
  {
   "cell_type": "code",
   "execution_count": 19,
   "id": "b298329d",
   "metadata": {
    "tags": []
   },
   "outputs": [],
   "source": [
    "def train_model(data):\n",
    "    '''Convert date column to UNIX timestamp'''\n",
    "    if 'date' in data.columns:\n",
    "        data['date'] = pd.to_datetime(data['date']).apply(pd.Timestamp.timestamp)\n",
    "    \n",
    "    '''Drop close column from the data DataFrame to create X'''\n",
    "    X = data.drop(['close'], axis=1)\n",
    "    \n",
    "    '''Select close column from the data DataFrame to create y'''\n",
    "    y = data['close']\n",
    "\n",
    "    '''Split the data into training and testing sets with test_size=0.2 and random_state=42'''\n",
    "    X_train, X_test, y_train, y_test = train_test_split(X, y, test_size=0.2, random_state=42)\n",
    "\n",
    "    '''Create an instance of the LinearRegression() class'''\n",
    "    lr_model = LinearRegression()\n",
    "\n",
    "    '''Train the model on the training data'''\n",
    "    lr_model.fit(X_train, y_train)\n",
    "\n",
    "    '''Make predictions on the testing set'''\n",
    "    y_pred = lr_model.predict(X_test)\n",
    "\n",
    "    '''Return the trained model and the predicted y values'''\n",
    "    return lr_model, y_pred, y_test\n",
    "\n",
    "model, y_pred, y_test = train_model(data)"
   ]
  },
  {
   "cell_type": "markdown",
   "id": "ab3c832d",
   "metadata": {},
   "source": [
    "### Modeling & Evaluation"
   ]
  },
  {
   "cell_type": "code",
   "execution_count": 20,
   "id": "a36080ff",
   "metadata": {
    "tags": []
   },
   "outputs": [
    {
     "name": "stdout",
     "output_type": "stream",
     "text": [
      "Mean squared error: 14192.646826186687\n",
      "R-squared: 0.9992461774932835\n"
     ]
    }
   ],
   "source": [
    "def evaluate_model(y_test, y_pred):\n",
    "    '''Calculate the mean squared error (MSE) between the predicted and actual y values in the testing set'''\n",
    "    mse = mean_squared_error(y_test, y_pred)\n",
    "\n",
    "    '''Calculate the R-squared (coefficient of determination) between the predicted and actual y values in the testing set'''\n",
    "    r2 = r2_score(y_test, y_pred)\n",
    "\n",
    "    '''Print the results'''\n",
    "    print('Mean squared error:', mse)\n",
    "    print('R-squared:', r2)\n",
    "\n",
    "evaluate_model(y_test, y_pred)"
   ]
  }
 ],
 "metadata": {
  "kernelspec": {
   "display_name": "Python",
   "language": "python",
   "name": "conda-env-python-py"
  },
  "language_info": {
   "codemirror_mode": {
    "name": "ipython",
    "version": 3
   },
   "file_extension": ".py",
   "mimetype": "text/x-python",
   "name": "python",
   "nbconvert_exporter": "python",
   "pygments_lexer": "ipython3",
   "version": "3.7.12"
  }
 },
 "nbformat": 4,
 "nbformat_minor": 5
}
